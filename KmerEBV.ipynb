{
  "cells": [
    {
      "cell_type": "markdown",
      "metadata": {
        "id": "view-in-github",
        "colab_type": "text"
      },
      "source": [
        "<a href=\"https://colab.research.google.com/github/Rishap100/KmerEBV/blob/main/KmerEBV.ipynb\" target=\"_parent\"><img src=\"https://colab.research.google.com/assets/colab-badge.svg\" alt=\"Open In Colab\"/></a>"
      ]
    },
    {
      "cell_type": "code",
      "execution_count": null,
      "metadata": {
        "colab": {
          "base_uri": "https://localhost:8080/"
        },
        "id": "xrK_5Fsgjyjf",
        "outputId": "f7666ba0-c4e2-453b-ef4b-015a10859c5b"
      },
      "outputs": [
        {
          "name": "stdout",
          "output_type": "stream",
          "text": [
            "Mounted at /content/drive\n",
            "/content/drive/MyDrive/DeepEBV-master\n"
          ]
        }
      ],
      "source": [
        "from google.colab import drive\n",
        "drive.mount('/content/drive')\n",
        "%cd /content/drive/MyDrive/DeepEBV-master"
      ]
    },
    {
      "cell_type": "code",
      "execution_count": null,
      "metadata": {
        "colab": {
          "background_save": true
        },
        "id": "Z-fA_ZX5kGNo",
        "outputId": "65109b96-b247-4250-e930-3822cad91b3a"
      },
      "outputs": [
        {
          "name": "stdout",
          "output_type": "stream",
          "text": [
            "(12144, 8000)\n"
          ]
        }
      ],
      "source": [
        "from sklearn.linear_model import LogisticRegression\n",
        "from sklearn.metrics import accuracy_score\n",
        "from sklearn.metrics import confusion_matrix, precision_score, roc_auc_score\n",
        "from sklearn.tree import DecisionTreeClassifier\n",
        "from sklearn.ensemble import RandomForestClassifier\n",
        "from sklearn import metrics\n",
        "import numpy as np\n",
        "\n",
        "test_data = np.load('/content/drive/MyDrive/DeepEBV-master/EBVdata/VISDB_Data/VISDB_Test_Data.npy')\n",
        "test_label = np.load('/content/drive/MyDrive/DeepEBV-master/EBVdata/VISDB_Data/VISDB_Test_Label.npy')\n",
        "\n",
        "new_test_data = test_data.reshape(test_data.shape[0],test_data.shape[1]*test_data.shape[2])\n",
        "print(np.shape(new_test_data))"
      ]
    },
    {
      "cell_type": "code",
      "execution_count": null,
      "metadata": {
        "colab": {
          "base_uri": "https://localhost:8080/"
        },
        "id": "9f7UnU64kXr5",
        "outputId": "471d6f51-e7bc-4975-c2d3-7b82c18d75c4"
      },
      "outputs": [
        {
          "name": "stdout",
          "output_type": "stream",
          "text": [
            "[b'C' b'T' b'T' ... b'T' b'G' b'T']\n"
          ]
        }
      ],
      "source": [
        "x_train_data = np.chararray((12144,2000))\n",
        "for i in range(len(new_test_data)):\n",
        "  s=\"\"\n",
        "  k=0\n",
        "  for j in range(len(new_test_data[i])):\n",
        "    if(j%4==0 and new_test_data[i][j]==1):\n",
        "      #s=s+\"A\"\n",
        "      x_train_data[i][k] = 'A'\n",
        "      k=k+1\n",
        "    elif(j%4==1 and new_test_data[i][j]==1):\n",
        "      x_train_data[i][k] = 'T'\n",
        "      k=k+1\n",
        "    elif(j%4==2 and new_test_data[i][j]==1):\n",
        "      x_train_data[i][k] = 'C'\n",
        "      k=k+1\n",
        "    elif(j%4==3 and new_test_data[i][j]==1):\n",
        "      x_train_data[i][k] = 'G'\n",
        "      k=k+1\n",
        "    else:\n",
        "      continue\n",
        "  #x_train_data[i]=s\n",
        "print(x_train_data[0])"
      ]
    },
    {
      "cell_type": "code",
      "execution_count": null,
      "metadata": {
        "id": "D06ZCc81lXwk"
      },
      "outputs": [],
      "source": [
        "from sklearn.linear_model import LogisticRegression\n",
        "from sklearn.metrics import accuracy_score\n",
        "from sklearn.metrics import confusion_matrix, precision_score, roc_auc_score\n",
        "from sklearn.tree import DecisionTreeClassifier\n",
        "from sklearn.ensemble import RandomForestClassifier\n",
        "from sklearn import metrics\n",
        "import numpy as np\n",
        "class kmer_featurization:\n",
        "\n",
        "  def __init__(self, k):\n",
        "    \"\"\"\n",
        "    seqs: a list of DNA sequences\n",
        "    k: the \"k\" in k-mer\n",
        "    \"\"\"\n",
        "    self.k = k\n",
        "    self.letters = ['A', 'T', 'C', 'G']\n",
        "    self.multiplyBy = 4 ** np.arange(k-1, -1, -1) # the multiplying number for each digit position in the k-number system\n",
        "    self.n = 4**k # number of possible k-mers\n",
        "\n",
        "  def obtain_kmer_feature_for_a_list_of_sequences(self, seqs, write_number_of_occurrences=False):\n",
        "    \"\"\"\n",
        "    Given a list of m DNA sequences, return a 2-d array with shape (m, 4**k) for the 1-hot representation of the kmer features.\n",
        "    Args:\n",
        "      write_number_of_occurrences:\n",
        "        a boolean. If False, then in the 1-hot representation, the percentage of the occurrence of a kmer will be recorded; otherwise the number of occurrences will be recorded. Default False.    \n",
        "    \"\"\"\n",
        "    kmer_features = []\n",
        "    for seq in seqs:\n",
        "      this_kmer_feature = self.obtain_kmer_feature_for_one_sequence(seq.upper(), write_number_of_occurrences=write_number_of_occurrences)\n",
        "      kmer_features.append(this_kmer_feature)\n",
        "\n",
        "    kmer_features = np.array(kmer_features)\n",
        "\n",
        "    return kmer_features\n",
        "\n",
        "  def obtain_kmer_feature_for_one_sequence(self, seq, write_number_of_occurrences=False):\n",
        "    \"\"\"\n",
        "    Given a DNA sequence, return the 1-hot representation of its kmer feature.\n",
        "    Args:\n",
        "      seq: \n",
        "        a string, a DNA sequence\n",
        "      write_number_of_occurrences:\n",
        "        a boolean. If False, then in the 1-hot representation, the percentage of the occurrence of a kmer will be recorded; otherwise the number of occurrences will be recorded. Default False.\n",
        "    \"\"\"\n",
        "    number_of_kmers = len(seq) - self.k + 1\n",
        "\n",
        "    kmer_feature = np.zeros(self.n)\n",
        "\n",
        "    for i in range(number_of_kmers):\n",
        "      this_kmer = seq[i:(i+self.k)]\n",
        "      this_numbering = self.kmer_numbering_for_one_kmer(this_kmer)\n",
        "      kmer_feature[this_numbering] += 1\n",
        "\n",
        "    if not write_number_of_occurrences:\n",
        "      kmer_feature = kmer_feature / number_of_kmers\n",
        "\n",
        "    return kmer_feature\n",
        "\n",
        "  def kmer_numbering_for_one_kmer(self, kmer):\n",
        "    \"\"\"\n",
        "    Given a k-mer, return its numbering (the 0-based position in 1-hot representation)\n",
        "    \"\"\"\n",
        "    digits = []\n",
        "    for letter in kmer:\n",
        "      digits.append(self.letters.index(letter))\n",
        "\n",
        "    digits = np.array(digits)\n",
        "\n",
        "    numbering = (digits * self.multiplyBy).sum()\n",
        "\n",
        "    return numbering"
      ]
    },
    {
      "cell_type": "code",
      "execution_count": null,
      "metadata": {
        "colab": {
          "base_uri": "https://localhost:8080/"
        },
        "id": "_EPHX567lZ_P",
        "outputId": "a6c402a3-bfd4-41b7-fdb4-e069381c4923"
      },
      "outputs": [
        {
          "name": "stdout",
          "output_type": "stream",
          "text": [
            "12144\n"
          ]
        }
      ],
      "source": [
        "seq_list_train = []\n",
        "for i in range (len(x_train_data)):\n",
        "  s = x_train_data[i].decode(\"utf-8\")\n",
        "  string = \"\"\n",
        "  for j in range(len(s)):\n",
        "    string += str(s[j])\n",
        "  #seq_list[i] = string\n",
        "  seq_list_train.append(string)\n",
        "print(len(seq_list_train))"
      ]
    },
    {
      "cell_type": "code",
      "execution_count": null,
      "metadata": {
        "id": "gnAP7FoKjWtB"
      },
      "outputs": [],
      "source": [
        "np.save('EBVdata/seq_list_train',seq_list_train)"
      ]
    },
    {
      "cell_type": "code",
      "execution_count": null,
      "metadata": {
        "colab": {
          "base_uri": "https://localhost:8080/"
        },
        "id": "R3ztWaeN8pKC",
        "outputId": "920c6ac7-3a6e-48c0-bc25-49c1e96278a0"
      },
      "outputs": [
        {
          "data": {
            "text/plain": [
              "(12144,)"
            ]
          },
          "execution_count": 21,
          "metadata": {},
          "output_type": "execute_result"
        }
      ],
      "source": [
        "np.shape(seq_list_train)"
      ]
    },
    {
      "cell_type": "code",
      "execution_count": null,
      "metadata": {
        "id": "_UFHMJ-ZAfyG"
      },
      "outputs": [],
      "source": [
        "seq_list_train[0]"
      ]
    },
    {
      "cell_type": "code",
      "execution_count": null,
      "metadata": {
        "id": "kRxR3-7TltFg"
      },
      "outputs": [],
      "source": [
        "k = 6  # choose the value for k\n",
        "\n",
        "obj = kmer_featurization(k)  # initialize a kmer_featurization object\n",
        "kmer_features = obj.obtain_kmer_feature_for_a_list_of_sequences(seq_list_train, write_number_of_occurrences=False)"
      ]
    },
    {
      "cell_type": "code",
      "execution_count": null,
      "metadata": {
        "id": "0soLzxBbp_xx"
      },
      "outputs": [],
      "source": [
        "np.save('EBVdata/kmer_features_train5', kmer_features)"
      ]
    },
    {
      "cell_type": "code",
      "execution_count": null,
      "metadata": {
        "colab": {
          "base_uri": "https://localhost:8080/",
          "height": 165
        },
        "id": "sQaQAvlkBwof",
        "outputId": "2d6043c6-2dd2-48cf-fd21-c3e4ebfb1c48"
      },
      "outputs": [
        {
          "ename": "NameError",
          "evalue": "ignored",
          "output_type": "error",
          "traceback": [
            "\u001b[0;31m---------------------------------------------------------------------------\u001b[0m",
            "\u001b[0;31mNameError\u001b[0m                                 Traceback (most recent call last)",
            "\u001b[0;32m<ipython-input-2-71be29c3fbf8>\u001b[0m in \u001b[0;36m<module>\u001b[0;34m()\u001b[0m\n\u001b[0;32m----> 1\u001b[0;31m \u001b[0mkmer_features\u001b[0m \u001b[0;34m=\u001b[0m \u001b[0mnp\u001b[0m\u001b[0;34m.\u001b[0m\u001b[0mload\u001b[0m\u001b[0;34m(\u001b[0m\u001b[0;34m'/content/drive/MyDrive/DeepEBV-master/EBVdata/kmer_features_train5.npy'\u001b[0m\u001b[0;34m)\u001b[0m\u001b[0;34m\u001b[0m\u001b[0;34m\u001b[0m\u001b[0m\n\u001b[0m",
            "\u001b[0;31mNameError\u001b[0m: name 'np' is not defined"
          ]
        }
      ],
      "source": [
        "kmer_features = np.load('/content/drive/MyDrive/DeepEBV-master/EBVdata/kmer_features_train5.npy')"
      ]
    },
    {
      "cell_type": "code",
      "execution_count": null,
      "metadata": {
        "colab": {
          "background_save": true,
          "base_uri": "https://localhost:8080/"
        },
        "id": "KxuDclogQdPw",
        "outputId": "b7494483-b25c-480b-84b6-7e2405d6bd53"
      },
      "outputs": [
        {
          "data": {
            "text/plain": [
              "(12144, 4096)"
            ]
          },
          "execution_count": null,
          "metadata": {},
          "output_type": "execute_result"
        }
      ],
      "source": [
        "np.shape(kmer_features)"
      ]
    },
    {
      "cell_type": "code",
      "execution_count": null,
      "metadata": {
        "id": "tcJIAFBcJLiM"
      },
      "outputs": [],
      "source": [
        "kmer_features = np.load('/content/drive/MyDrive/DeepEBV-master/EBVdata/kmer_features_train.npy')"
      ]
    },
    {
      "cell_type": "code",
      "execution_count": null,
      "metadata": {
        "colab": {
          "base_uri": "https://localhost:8080/"
        },
        "id": "Bcn6Aj19QjnU",
        "outputId": "48b48c71-4f27-4420-81a5-252d62e98e8a"
      },
      "outputs": [
        {
          "data": {
            "text/plain": [
              "(29293, 4096)"
            ]
          },
          "execution_count": 17,
          "metadata": {},
          "output_type": "execute_result"
        }
      ],
      "source": [
        "np.shape(kmer_features)"
      ]
    },
    {
      "cell_type": "code",
      "execution_count": null,
      "metadata": {
        "id": "AEcVFy6bqNKg"
      },
      "outputs": [],
      "source": [
        "from sklearn.model_selection import train_test_split\n",
        "X_train, X_test, y_train, y_test = train_test_split(kmer_features, test_label, test_size = 0.20)"
      ]
    },
    {
      "cell_type": "code",
      "execution_count": null,
      "metadata": {
        "id": "tnyCPpmKqekf"
      },
      "outputs": [],
      "source": [
        "from keras.models import Sequential\n",
        "from keras.layers import Dense\n",
        "model = Sequential()\n",
        "model.add(Dense(4096,input_dim = 4096, activation = 'relu'))\n",
        "model.add(Dense(2000,activation= 'relu'))\n",
        "model.add(Dense(1000,activation= 'relu'))\n",
        "model.add(Dense(500,activation= 'relu'))\n",
        "model.add(Dense(200,activation= 'relu'))\n",
        "model.add(Dense(200,activation='relu'))\n",
        "model.add(Dense(100,activation='relu'))\n",
        "model.add(Dense(30,activation='relu'))\n",
        "model.add(Dense(1,activation='sigmoid'))\n",
        "model.compile(loss = 'binary_crossentropy',optimizer='adam', metrics =['accuracy']) "
      ]
    },
    {
      "cell_type": "code",
      "execution_count": null,
      "metadata": {
        "id": "08Z4s0JvqkYc"
      },
      "outputs": [],
      "source": [
        "model.fit(X_train, y_train, epochs=10, batch_size= 5,  verbose=2)\n",
        "model.save(\"model5.h5\")"
      ]
    },
    {
      "cell_type": "code",
      "execution_count": null,
      "metadata": {
        "id": "h30OHJ8O6CMW"
      },
      "outputs": [],
      "source": [
        "from keras.models import load_model\n",
        "loaded_model = load_model(\"model5.h5\")"
      ]
    },
    {
      "cell_type": "code",
      "execution_count": null,
      "metadata": {
        "id": "P5uR6PJG6Tbu"
      },
      "outputs": [],
      "source": [
        "loaded_model.fit(X_train, y_train, epochs=20, batch_size= 5,  verbose=2)\n",
        "loaded_model.save(\"model5.h5\")"
      ]
    },
    {
      "cell_type": "code",
      "execution_count": null,
      "metadata": {
        "id": "k3e5WmRyWVQy"
      },
      "outputs": [],
      "source": [
        "output = loaded_model.predict(X_test)"
      ]
    },
    {
      "cell_type": "code",
      "execution_count": null,
      "metadata": {
        "colab": {
          "base_uri": "https://localhost:8080/"
        },
        "id": "Xy6LzcmdBfP6",
        "outputId": "2e62e895-18ed-4c21-cc67-aa57f807ff0b"
      },
      "outputs": [
        {
          "name": "stdout",
          "output_type": "stream",
          "text": [
            "[[1.0000000e+00]\n",
            " [1.0889024e-02]\n",
            " [1.4411700e-12]\n",
            " ...\n",
            " [3.7081242e-03]\n",
            " [1.3716519e-03]\n",
            " [6.4550933e-20]]\n"
          ]
        }
      ],
      "source": [
        "print(output)"
      ]
    },
    {
      "cell_type": "code",
      "execution_count": null,
      "metadata": {
        "colab": {
          "base_uri": "https://localhost:8080/"
        },
        "id": "EAU-9DN4Wp6_",
        "outputId": "c88d1084-c60a-457a-b78a-5b2fe3b1ea2e"
      },
      "outputs": [
        {
          "name": "stdout",
          "output_type": "stream",
          "text": [
            "\n",
            " Bound : 0.5\n",
            "[[2210    8]\n",
            " [  47  164]]\n",
            "              precision    recall  f1-score   support\n",
            "\n",
            "         0.0       0.98      1.00      0.99      2218\n",
            "         1.0       0.95      0.78      0.86       211\n",
            "\n",
            "    accuracy                           0.98      2429\n",
            "   macro avg       0.97      0.89      0.92      2429\n",
            "weighted avg       0.98      0.98      0.98      2429\n",
            "\n",
            "\n",
            " Bound : 0.53\n",
            "[[2210    8]\n",
            " [  48  163]]\n",
            "              precision    recall  f1-score   support\n",
            "\n",
            "         0.0       0.98      1.00      0.99      2218\n",
            "         1.0       0.95      0.77      0.85       211\n",
            "\n",
            "    accuracy                           0.98      2429\n",
            "   macro avg       0.97      0.88      0.92      2429\n",
            "weighted avg       0.98      0.98      0.98      2429\n",
            "\n",
            "\n",
            " Bound : 0.56\n",
            "[[2210    8]\n",
            " [  48  163]]\n",
            "              precision    recall  f1-score   support\n",
            "\n",
            "         0.0       0.98      1.00      0.99      2218\n",
            "         1.0       0.95      0.77      0.85       211\n",
            "\n",
            "    accuracy                           0.98      2429\n",
            "   macro avg       0.97      0.88      0.92      2429\n",
            "weighted avg       0.98      0.98      0.98      2429\n",
            "\n",
            "\n",
            " Bound : 0.5900000000000001\n",
            "[[2210    8]\n",
            " [  48  163]]\n",
            "              precision    recall  f1-score   support\n",
            "\n",
            "         0.0       0.98      1.00      0.99      2218\n",
            "         1.0       0.95      0.77      0.85       211\n",
            "\n",
            "    accuracy                           0.98      2429\n",
            "   macro avg       0.97      0.88      0.92      2429\n",
            "weighted avg       0.98      0.98      0.98      2429\n",
            "\n",
            "\n",
            " Bound : 0.6200000000000001\n",
            "[[2210    8]\n",
            " [  48  163]]\n",
            "              precision    recall  f1-score   support\n",
            "\n",
            "         0.0       0.98      1.00      0.99      2218\n",
            "         1.0       0.95      0.77      0.85       211\n",
            "\n",
            "    accuracy                           0.98      2429\n",
            "   macro avg       0.97      0.88      0.92      2429\n",
            "weighted avg       0.98      0.98      0.98      2429\n",
            "\n",
            "\n",
            " Bound : 0.6500000000000001\n",
            "[[2210    8]\n",
            " [  48  163]]\n",
            "              precision    recall  f1-score   support\n",
            "\n",
            "         0.0       0.98      1.00      0.99      2218\n",
            "         1.0       0.95      0.77      0.85       211\n",
            "\n",
            "    accuracy                           0.98      2429\n",
            "   macro avg       0.97      0.88      0.92      2429\n",
            "weighted avg       0.98      0.98      0.98      2429\n",
            "\n",
            "\n",
            " Bound : 0.6800000000000002\n",
            "[[2211    7]\n",
            " [  48  163]]\n",
            "              precision    recall  f1-score   support\n",
            "\n",
            "         0.0       0.98      1.00      0.99      2218\n",
            "         1.0       0.96      0.77      0.86       211\n",
            "\n",
            "    accuracy                           0.98      2429\n",
            "   macro avg       0.97      0.88      0.92      2429\n",
            "weighted avg       0.98      0.98      0.98      2429\n",
            "\n"
          ]
        }
      ],
      "source": [
        "from sklearn.metrics import classification_report, confusion_matrix\n",
        "rounded = [int(round(x[0])) for x in output]\n",
        "bound = np.arange(.5,.7,.03) \n",
        "for i in range(len(bound)):\n",
        "  rounded = [1 if x>bound[i] else 0 for x in output ]\n",
        "\n",
        "  print(\"\\n Bound : \" + str(bound[i]))\n",
        "  print(confusion_matrix(y_test,rounded))\n",
        "  print(classification_report(y_test,rounded))"
      ]
    },
    {
      "cell_type": "code",
      "execution_count": null,
      "metadata": {
        "colab": {
          "base_uri": "https://localhost:8080/"
        },
        "id": "k4_Sf5XlWzsS",
        "outputId": "4eddcefe-91bf-4f07-ce03-01f9d3a05bff"
      },
      "outputs": [
        {
          "name": "stdout",
          "output_type": "stream",
          "text": [
            " AUROC = 0.923\n"
          ]
        }
      ],
      "source": [
        "from sklearn.metrics import roc_curve\n",
        "from sklearn.metrics import roc_auc_score\n",
        "from matplotlib import pyplot\n",
        "\n",
        "# calculate scores\n",
        "ns_auc = roc_auc_score(y_test, output)\n",
        "\n",
        "# summarize scores\n",
        "print(' AUROC = %.3f' % (ns_auc))"
      ]
    },
    {
      "cell_type": "code",
      "execution_count": null,
      "metadata": {
        "colab": {
          "base_uri": "https://localhost:8080/"
        },
        "id": "j2ob0aWqhH0Z",
        "outputId": "8eca4bce-7325-420c-bcfc-79eaf06e57b0"
      },
      "outputs": [
        {
          "name": "stdout",
          "output_type": "stream",
          "text": [
            "[[2211   48]\n",
            " [   7  163]]\n",
            "Sensitivity :  0.996844003606853\n",
            "Specificity :  0.7725118483412322\n",
            "PPV 0.9787516600265604\n",
            "NPV 0.9588235294117647\n",
            "AUC 0.8846779259740425\n"
          ]
        }
      ],
      "source": [
        "cm1 = confusion_matrix(rounded,y_test)\n",
        "print(cm1)\n",
        "sensitivity1 = cm1[0,0]/(cm1[0,0]+cm1[1,0])\n",
        "print('Sensitivity : ', sensitivity1 )\n",
        "\n",
        "specificity1 = cm1[1,1]/(cm1[0,1]+cm1[1,1])\n",
        "print('Specificity : ', specificity1)\n",
        "\n",
        "ppv = cm1[0,0]/(cm1[0,1]+cm1[0,0])\n",
        "print('PPV',ppv)\n",
        "\n",
        "npv = cm1[1,1]/(cm1[1,0]+cm1[1,1])\n",
        "print('NPV', npv)\n",
        "\n",
        "auc = roc_auc_score(y_test,rounded)\n",
        "print('AUC',auc)"
      ]
    }
  ],
  "metadata": {
    "colab": {
      "name": "EBV5.ipynb",
      "provenance": [],
      "authorship_tag": "ABX9TyPNfLSVwRyZ4w13FYeg0MnA",
      "include_colab_link": true
    },
    "kernelspec": {
      "display_name": "Python 3",
      "name": "python3"
    },
    "language_info": {
      "name": "python"
    }
  },
  "nbformat": 4,
  "nbformat_minor": 0
}